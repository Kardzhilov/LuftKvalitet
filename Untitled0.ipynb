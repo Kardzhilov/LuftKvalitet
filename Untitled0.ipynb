{
 "metadata": {
  "name": "",
  "signature": "sha256:6964ec98fa95d075076800295135810ff6edfd4ef7a1a70656f9a0450c81c7b4"
 },
 "nbformat": 3,
 "nbformat_minor": 0,
 "worksheets": []
}
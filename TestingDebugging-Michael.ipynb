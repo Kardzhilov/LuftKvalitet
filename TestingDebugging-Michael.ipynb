{
 "metadata": {
  "kernelspec": {
   "display_name": "Python 3",
   "language": "python",
   "name": "python3"
  },
  "language_info": {
   "codemirror_mode": {
    "name": "ipython",
    "version": 3
   },
   "file_extension": ".py",
   "mimetype": "text/x-python",
   "name": "python",
   "nbconvert_exporter": "python",
   "pygments_lexer": "ipython3",
   "version": "3.6.4"
  },
  "name": "",
  "signature": "sha256:c1b0b8ea9f8fcce4745f9076d45996ab67e3fdc0a350aa198c2c572163059d0b"
 },
 "nbformat": 3,
 "nbformat_minor": 0,
 "worksheets": [
  {
   "cells": [
    {
     "cell_type": "code",
     "collapsed": false,
     "input": [
      "%matplotlib inline\n",
      "\n",
      "import matplotlib.pyplot as plt\n",
      "\n",
      "from pylab import *\n",
      "import numpy as np\n",
      "from pandas import DataFrame, Series\n",
      "from scipy.spatial.distance import pdist, squareform\n",
      "\n",
      "import dataset"
     ],
     "language": "python",
     "metadata": {},
     "outputs": [],
     "prompt_number": 6
    },
    {
     "cell_type": "code",
     "collapsed": false,
     "input": [
      "\n",
      "def SVh( P, h, bw ):\n",
      "    '''\n",
      "    Experimental semivariogram for a single lag\n",
      "    '''\n",
      "    pd = squareform( pdist( P[:,:2] ) )\n",
      "    N = pd.shape[0]\n",
      "    Z = list()\n",
      "    for i in range(N):\n",
      "        for j in range(i+1,N):\n",
      "            if( pd[i,j] >= h-bw )and( pd[i,j] <= h+bw ):\n",
      "                Z.append( ( P[i,2] - P[j,2] )**2.0 )\n",
      "    return np.sum( Z ) / ( 2.0 * len( Z ) )\n",
      "\n",
      "def SV (P, hs, bw ):\n",
      "    \n",
      "    # Experimental variogram for a collection of lags\n",
      "\n",
      "    sv = list()\n",
      "    for h in hs:\n",
      "        sv.append( SVh(P, h, bw) )\n",
      "    sv = [ [ hs[i], sv[i] ] for i in range( len( hs ) ) if sv[i] > 0 ]\n",
      "\n",
      "    return np.array( sv ).T\n",
      "\n",
      "def C( P, h, bw ):\n",
      "\n",
      "    # Calculate the still, covariance function\n",
      "\n",
      "    c0 = np.var( P[:,2] )\n",
      "    if h == 0:\n",
      "        return c0\n",
      "    return c0-SVh( P, h, bw)\n",
      "\n",
      "'''\n",
      "plot(sv[0], sv[1], '.-')\n",
      "xlabel('lag [m]')\n",
      "ylabel('semivariance')\n",
      "title('Sample Semivariance')\n",
      "savefig('sample_semivariogram2.png',fmt='png',dpi=200)\n",
      "'''\n",
      "\n",
      "def opt ( fct, x, y, C0, parameterRange=None, meshSize=1000 ):\n",
      "\n",
      "    #determining the optimal value a for the spherical model.\n",
      "    \n",
      "    if parameterRange == None:\n",
      "        parameterRange =  [x[1], x[-1] ]\n",
      "        \n",
      "    mse = np.zeros( meshSize )\n",
      "    a = np.linspace( parameterRange[0], parameterRange[1], meshSize )\n",
      "    for i in range( meshSize ):\n",
      "        mse[i] = np.mean( ( y - fct( x, a[i], C0 ) )**2.0 )\n",
      "    return a[ mse.argmin() ]\n",
      "\n",
      "def spherical ( h, a, C0 ):\n",
      "    # Spherical model of the semivariogram\n",
      "\n",
      "    # if h is a single digit\n",
      "    if type(h) == np.float64:\n",
      "        # calculate the spherical function\n",
      "        if h <= a:\n",
      "            return C0*( 1.5*h/a - 0.5*(h/a)**3.0 )\n",
      "        else:\n",
      "            return C0\n",
      "    # if h is an iterable\n",
      "    else:\n",
      "        # calculate the spherical function for all elements\n",
      "        a = np.ones( h.size ) * a\n",
      "        C0 = np.ones( h.size ) * C0\n",
      "        return list(map( spherical, h, a, C0 ))\n",
      "\n",
      "def cvmodel ( P, model, hs, bw ):\n",
      "    '''\n",
      "    Input:  (P)         ndarray, data\n",
      "            (model)     modeling function\n",
      "                         - spherical\n",
      "                         - exponential\n",
      "                         - gaussian\n",
      "            (hs)        distances\n",
      "            (bw)        bandwidth\n",
      "    Output: (covfct)    function modeling the covariance\n",
      "    '''\n",
      "    # calculate the semivariogram\n",
      "    sv = SV(P, hs, bw )\n",
      "    # calculate the sill\n",
      "    C0 = C( P, hs[0], bw )\n",
      "    # calculate the optimal parameters\n",
      "    param = opt ( model, sv[0], sv[1], C0 )\n",
      "    # return a covariance function\n",
      "    covfct = lambda h, a=param: model( h, a, C0 )\n",
      "   # covfct = lambda h, a=param: model( h, a, C0 ) # this makes a unflippd curve compared to the tutorial, found in comments\n",
      "    return covfct\n",
      "\n",
      "'''\n",
      "sp = cvmodel( P, model=spherical, hs=np.arange(0,10500, 500), bw=500 )\n",
      "plot( sv[0], sv[1], '.-' )\n",
      "plot ( sv[0], sp( sv[0] ) ) ;\n",
      "title ('Spherical Model')\n",
      "ylabel('Semivariance')\n",
      "xlabel('Lag [m]')\n",
      "savefig('semivariogram_model.png', fmt='png',dpi=200)\n",
      "'''\n",
      "\n",
      "def krige( P, model, hs, bw, u, N ):\n",
      "    '''\n",
      "    Input       (P)     ndarray, data\n",
      "                (model) modeling function\n",
      "                         - spherical\n",
      "                         - exponential\n",
      "                         - gaussian\n",
      "                (hs)    kriging distances\n",
      "                (bw)    krigin bandwidth\n",
      "                (u)     unsampled point\n",
      "                (N)     number of neighboring\n",
      "                        points to consider\n",
      "    '''\n",
      "\n",
      "    # covariance function\n",
      "    covfct = cvmodel( P, model, hs, bw )\n",
      "    # mean of the variable\n",
      "    mu = np.mean( P[:,2] )\n",
      "\n",
      "    # distance between u and each data point in P\n",
      "    d = np.sqrt( ( P[:,0] - u[0] )**2.0 + ( P[:,1] - u[1] )**2.0 )\n",
      "    # add these distances to P\n",
      "    P = np.vstack(( P.T, d )).T\n",
      "    # sort P by these distances\n",
      "    # take the first N of them\n",
      "    P = P[d.argsort()[:N]]\n",
      "\n",
      "    # apply the covariance model to the distances\n",
      "    k = covfct( P[:,3] )\n",
      "    # cast as a matrix\n",
      "    k = np.matrix( k ).T\n",
      " \n",
      "    # form a matrix of distances between existing data points\n",
      "    K = squareform( pdist( P[:,:2] ) )\n",
      "    # apply the covariance model to these distances\n",
      "    K = covfct( K.ravel() )\n",
      "    # re-cast as a NumPy array -- thanks M.L.\n",
      "    K = np.array( K )\n",
      "    \n",
      "    #print('\\n')\n",
      "    #print(K)\n",
      "    #print('\\n')\n",
      "    \n",
      "    # reshape into an array\n",
      "    K = K.reshape(N,N);\n",
      "    # cast as a matrix\n",
      "    K = np.matrix( K )\n",
      " \n",
      "    # calculate the krigin weights\n",
      "    weights = np.linalg.inv( K ) * k\n",
      "    weights = np.array( weights )\n",
      "\n",
      "    # calculate the residuals\n",
      "    residuals = P[:,2] - mu\n",
      "\n",
      "    # calculate the estimation\n",
      "    estimation = np.dot( weights.T, residuals ) + mu\n",
      "\n",
      "    return float ( estimation )"
     ],
     "language": "python",
     "metadata": {},
     "outputs": [],
     "prompt_number": 7
    },
    {
     "cell_type": "code",
     "collapsed": false,
     "input": [
      "\n",
      "\n",
      "# fetching/parseing data\n",
      "#z = open ( 'ZoneA.dat', 'r' ).readlines()\n",
      "#z = [ i.strip().split() for i in z [10:] ]\n",
      "#z = np.array( z, dtype=np.float )\n",
      "#z = DataFrame( z, columns=['x','y','thk','por','prem','lprem','lpermp', 'lpermr'] )\n",
      "z = dataset.data();\n",
      "z = z.drop(z[z.component != 'PM10'].index)\n",
      "print(z)\n",
      "'''\n",
      "# graphing data\n",
      "fig, ax = subplots()\n",
      "ax.scatter(z.x, z.y, c=z.por, cmap='gray')\n",
      "ax.set_aspect(1)\n",
      "xlim(-1500, 22000)\n",
      "ylim(-1500, 17500)\n",
      "xlabel('Easting [m]')\n",
      "ylabel('Northing [m]')\n",
      "title('Porosity %') ;\n",
      "savefig('sample_porosity.png',fmt='png',dpi=200)\n",
      "'''\n",
      "\n"
     ],
     "language": "python",
     "metadata": {},
     "outputs": [
      {
       "output_type": "stream",
       "stream": "stdout",
       "text": [
        "    latitude  longitude      value   unit component             x            y\n",
        "2   59.92110   10.83363  27.245556  \u00b5g/m\u00b3      PM10   9445.196147  5519.426402\n",
        "3   59.91132   10.70407  29.370000  \u00b5g/m\u00b3      PM10   2231.188986  4236.971741\n",
        "4   59.93233   10.72447   6.980973  \u00b5g/m\u00b3      PM10   3310.899194  6605.790624\n",
        "5   59.92295   10.76573  19.500000  \u00b5g/m\u00b3      PM10   5644.313939  5622.211051\n",
        "6   59.93255   10.66984  12.716585  \u00b5g/m\u00b3      PM10    257.592415  6552.007552\n",
        "7   59.94103   10.79803   9.048585  \u00b5g/m\u00b3      PM10   7394.997730  7683.827281\n",
        "8   59.91975   10.68973  16.000000  \u00b5g/m\u00b3      PM10   1405.413216  5155.033425\n",
        "9   59.92773   10.84633  14.700000  \u00b5g/m\u00b3      PM10  10134.484938  6277.328925\n",
        "10  59.91898   10.69707  30.000000  \u00b5g/m\u00b3      PM10   1817.921401  5079.796788\n",
        "11  59.89869   10.81495  21.780000  \u00b5g/m\u00b3      PM10   8469.460905  2995.554277\n"
       ]
      },
      {
       "metadata": {},
       "output_type": "pyout",
       "prompt_number": 8,
       "text": [
        "\"\\n# graphing data\\nfig, ax = subplots()\\nax.scatter(z.x, z.y, c=z.por, cmap='gray')\\nax.set_aspect(1)\\nxlim(-1500, 22000)\\nylim(-1500, 17500)\\nxlabel('Easting [m]')\\nylabel('Northing [m]')\\ntitle('Porosity %') ;\\nsavefig('sample_porosity.png',fmt='png',dpi=200)\\n\""
       ]
      }
     ],
     "prompt_number": 8
    },
    {
     "cell_type": "code",
     "collapsed": false,
     "input": [
      "# part of our data set recording porosity\n",
      "P = np.array( z[['x','y','value']] )\n",
      "# bandwidth, plus or minus 250 meters\n",
      "bw = 19999\n",
      "# lags in 500 meter increments from zero to 10,000\n",
      "# hs = np.arange(0,10500,bw)\n",
      "hs = np.arange(0,20000, bw)\n",
      "sv = SV( P, hs, bw )\n",
      "\n",
      "\n",
      "\n",
      "# calculate the kriging estimate at a number of unsampled points\n",
      "#map corners\n",
      "LEFT = 593065.1648494017;\n",
      "BOTTOM = 6638524.509011956;\n",
      "RIGHT = 605365.439142052; \n",
      "TOP = 6648891.652304975;\n",
      "\n",
      "X0, X1 = 0, RIGHT-LEFT\n",
      "Y0, Y1 = 0, TOP-BOTTOM\n",
      "nx = 48\n",
      "ny = 60\n",
      "num_points = len(z.index)\n",
      "print(\"number of points taken into consideration: \" + str(num_points))\n",
      "\n",
      "Z = np.zeros((ny,nx))\n",
      "dx, dy = (X1-X0)/float(nx), (Y1-Y0)/float(ny)\n",
      "for i in range(nx):\n",
      "    print (i),\n",
      "    for j in range(ny):\n",
      "        x = X0 + i*dx\n",
      "        y = Y0 + j*dy\n",
      "        Z[j,i] = krige( P, spherical, hs, bw, (x, y), num_points )\n"
     ],
     "language": "python",
     "metadata": {},
     "outputs": [
      {
       "output_type": "stream",
       "stream": "stdout",
       "text": [
        "number of points taken into consideration: 10\n",
        "0 "
       ]
      },
      {
       "output_type": "stream",
       "stream": "stdout",
       "text": [
        "1 "
       ]
      },
      {
       "output_type": "stream",
       "stream": "stdout",
       "text": [
        "2 "
       ]
      },
      {
       "output_type": "stream",
       "stream": "stdout",
       "text": [
        "3 "
       ]
      },
      {
       "output_type": "stream",
       "stream": "stdout",
       "text": [
        "4 "
       ]
      },
      {
       "output_type": "stream",
       "stream": "stdout",
       "text": [
        "5 "
       ]
      },
      {
       "output_type": "stream",
       "stream": "stdout",
       "text": [
        "6 "
       ]
      },
      {
       "output_type": "stream",
       "stream": "stdout",
       "text": [
        "7 "
       ]
      },
      {
       "output_type": "stream",
       "stream": "stdout",
       "text": [
        "8 "
       ]
      },
      {
       "output_type": "stream",
       "stream": "stdout",
       "text": [
        "9 "
       ]
      },
      {
       "output_type": "stream",
       "stream": "stdout",
       "text": [
        "10 "
       ]
      },
      {
       "output_type": "stream",
       "stream": "stdout",
       "text": [
        "11 "
       ]
      },
      {
       "output_type": "stream",
       "stream": "stdout",
       "text": [
        "12 "
       ]
      },
      {
       "output_type": "stream",
       "stream": "stdout",
       "text": [
        "13 "
       ]
      },
      {
       "output_type": "stream",
       "stream": "stdout",
       "text": [
        "14 "
       ]
      },
      {
       "output_type": "stream",
       "stream": "stdout",
       "text": [
        "15 "
       ]
      },
      {
       "output_type": "stream",
       "stream": "stdout",
       "text": [
        "16 "
       ]
      },
      {
       "output_type": "stream",
       "stream": "stdout",
       "text": [
        "17 "
       ]
      },
      {
       "output_type": "stream",
       "stream": "stdout",
       "text": [
        "18 "
       ]
      },
      {
       "output_type": "stream",
       "stream": "stdout",
       "text": [
        "19 "
       ]
      },
      {
       "output_type": "stream",
       "stream": "stdout",
       "text": [
        "20 "
       ]
      },
      {
       "output_type": "stream",
       "stream": "stdout",
       "text": [
        "21 "
       ]
      },
      {
       "output_type": "stream",
       "stream": "stdout",
       "text": [
        "22 "
       ]
      },
      {
       "output_type": "stream",
       "stream": "stdout",
       "text": [
        "23 "
       ]
      },
      {
       "output_type": "stream",
       "stream": "stdout",
       "text": [
        "24 "
       ]
      },
      {
       "output_type": "stream",
       "stream": "stdout",
       "text": [
        "25 "
       ]
      },
      {
       "output_type": "stream",
       "stream": "stdout",
       "text": [
        "26 "
       ]
      },
      {
       "output_type": "stream",
       "stream": "stdout",
       "text": [
        "27 "
       ]
      },
      {
       "output_type": "stream",
       "stream": "stdout",
       "text": [
        "28 "
       ]
      },
      {
       "output_type": "stream",
       "stream": "stdout",
       "text": [
        "29 "
       ]
      },
      {
       "output_type": "stream",
       "stream": "stdout",
       "text": [
        "30 "
       ]
      },
      {
       "output_type": "stream",
       "stream": "stdout",
       "text": [
        "31 "
       ]
      },
      {
       "output_type": "stream",
       "stream": "stdout",
       "text": [
        "32 "
       ]
      },
      {
       "output_type": "stream",
       "stream": "stdout",
       "text": [
        "33 "
       ]
      },
      {
       "output_type": "stream",
       "stream": "stdout",
       "text": [
        "34 "
       ]
      },
      {
       "output_type": "stream",
       "stream": "stdout",
       "text": [
        "35 "
       ]
      },
      {
       "output_type": "stream",
       "stream": "stdout",
       "text": [
        "36 "
       ]
      },
      {
       "output_type": "stream",
       "stream": "stdout",
       "text": [
        "37 "
       ]
      },
      {
       "output_type": "stream",
       "stream": "stdout",
       "text": [
        "38 "
       ]
      },
      {
       "output_type": "stream",
       "stream": "stdout",
       "text": [
        "39 "
       ]
      },
      {
       "output_type": "stream",
       "stream": "stdout",
       "text": [
        "40 "
       ]
      },
      {
       "output_type": "stream",
       "stream": "stdout",
       "text": [
        "41 "
       ]
      },
      {
       "output_type": "stream",
       "stream": "stdout",
       "text": [
        "42 "
       ]
      },
      {
       "output_type": "stream",
       "stream": "stdout",
       "text": [
        "43 "
       ]
      },
      {
       "output_type": "stream",
       "stream": "stdout",
       "text": [
        "44 "
       ]
      },
      {
       "output_type": "stream",
       "stream": "stdout",
       "text": [
        "45 "
       ]
      },
      {
       "output_type": "stream",
       "stream": "stdout",
       "text": [
        "46 "
       ]
      },
      {
       "output_type": "stream",
       "stream": "stdout",
       "text": [
        "47\n"
       ]
      }
     ],
     "prompt_number": 9
    },
    {
     "cell_type": "code",
     "collapsed": false,
     "input": [
      "\n",
      "cdict = {'red':   ((0.0, 1.0, 1.0),\n",
      "                   (0.5, 225/255., 225/255. ),\n",
      "                   (0.75, 0.141, 0.141 ),\n",
      "                   (1.0, 0.0, 0.0)),\n",
      "         'green': ((0.0, 1.0, 1.0),\n",
      "                   (00.5, 57/255., 57/255. ),\n",
      "                   (0.75, 0.0, 0.0 ),\n",
      "                   (1.0, 0.0, 0.0)),\n",
      "         'blue':  ((0.0, 0.376, 0.376),\n",
      "                   (0.5, 198/255., 198/255. ),\n",
      "                   (0.75, 1.0, 1.0 ),\n",
      "                   (1.0, 0.0, 0.0)) }\n",
      "\n",
      "my_cmap = matplotlib.colors.LinearSegmentedColormap('my_colormap', cdict, 256)\n",
      "\n",
      "fig, ax = subplots()\n",
      "H = np.zeros_like( Z )\n",
      "for i in range( Z.shape[0] ):\n",
      "    for j in range( Z.shape[1] ):\n",
      "        H[i,j] = np.round( Z[i,j]*3 )\n",
      "\n",
      "#ax.matshow( H, cmap=my_cmap, interpolation='nearest' )\n",
      "# https://matplotlib.org/gallery/images_contours_and_fields/interpolation_methods.html\n",
      "ax.imshow(H, cmap=my_cmap, origin='lower', interpolation='gaussian', alpha=0.7, extent=[X0, X1, Y0, Y1])\n",
      "\n",
      "#sc = ax.scatter( z.x, z.y, cmap=my_cmap, c=z.value, linewidths=0.75, s=50 )\n",
      "ax.axis('off')\n",
      "#should figure out why its these numbers\n",
      "#ax = plt.Axes(fig, [0.16, 0.16, 0.7, 0.7])\n",
      "#ax = plt.Axes(fig, [-0.135, -0.135, 1, 1]) same as bellow\n",
      "#ax = plt.Axes(fig, [0, 0, 0.865, 0.865]) // this one gives top right courner right\n",
      "#xlim(0,nx) ; ylim(0,ny)\n",
      "#xticks( [25,50,75], [5000,10000,15000] )\n",
      "#yticks( [25,50,75], [5000,10000,15000] )\n",
      "#plt.colorbar(sc)\n",
      "#fig.suptitle(z['component'].iloc[0], fontsize=14)\n",
      "#fig.suptitle('Component: ' + str(z['component'].iloc[0]) + ', Date: ' + str(datetime.datetime.now().strftime(\"%Y-%m-%d %H:%M\")), fontsize=14)\n",
      "fig.dpi=400\n",
      "\n",
      "\n",
      "#bbox_inches=extent sort of works just not right aspect ratio     'tight'  \n",
      "#fig.set_size_inches(5, 5.95)\n",
      "#aspect ratio 1.19:1\n",
      "fig.set_size_inches(5.95, 5)\n",
      "extent = ax.get_window_extent().transformed(fig.dpi_scale_trans.inverted())\n",
      "fig.savefig('tesst.png',dpi = 400 , bbox_inches=extent, transparent=True, pad_inches=0, frameon=None)\n",
      "fig.show() \n",
      "#savefig( 'krigingpurple.png', fmt='png', dpi=200 )\n"
     ],
     "language": "python",
     "metadata": {
      "scrolled": true
     },
     "outputs": [
      {
       "metadata": {},
       "output_type": "display_data",
       "png": "[encoded data removed]",
       "text": [
        "<matplotlib.figure.Figure at 0x7f240ad6d790>"
       ]
      }
     ],
     "prompt_number": 10
    },
    {
     "cell_type": "code",
     "collapsed": false,
     "input": [],
     "language": "python",
     "metadata": {},
     "outputs": [],
     "prompt_number": 10
    },
    {
     "cell_type": "code",
     "collapsed": false,
     "input": [],
     "language": "python",
     "metadata": {},
     "outputs": [],
     "prompt_number": 10
    }
   ],
   "metadata": {}
  }
 ]
}
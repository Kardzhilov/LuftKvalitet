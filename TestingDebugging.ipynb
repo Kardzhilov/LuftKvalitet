{
 "metadata": {
  "name": "",
  "signature": "sha256:a867085c2d8c5163ae9f9ed221177d77f9d9083578a2d9343cd633125375c7c6"
 },
 "nbformat": 3,
 "nbformat_minor": 0,
 "worksheets": [
  {
   "cells": [
    {
     "cell_type": "code",
     "collapsed": false,
     "input": [
      "%matplotlib inline\n",
      "\n",
      "import matplotlib.pyplot as plt\n",
      "\n",
      "from pylab import *\n",
      "import numpy as np\n",
      "from pandas import DataFrame, Series\n",
      "from scipy.spatial.distance import pdist, squareform\n",
      "\n",
      "from mpl_toolkits.basemap import Basemap\n",
      "\n",
      "import datetime\n",
      "import dataset\n",
      "import utm\n",
      "\n",
      "import mplleaflet"
     ],
     "language": "python",
     "metadata": {},
     "outputs": [],
     "prompt_number": 17
    },
    {
     "cell_type": "code",
     "collapsed": false,
     "input": [
      "\n",
      "def SVh( P, h, bw ):\n",
      "    '''\n",
      "    Experimental semivariogram for a single lag\n",
      "    '''\n",
      "    pd = squareform( pdist( P[:,:2] ) )\n",
      "    N = pd.shape[0]\n",
      "    Z = list()\n",
      "    for i in range(N):\n",
      "        for j in range(i+1,N):\n",
      "            if( pd[i,j] >= h-bw )and( pd[i,j] <= h+bw ):\n",
      "                Z.append( ( P[i,2] - P[j,2] )**2.0 )\n",
      "    return np.sum( Z ) / ( 2.0 * len( Z ) )\n",
      "\n",
      "def SV (P, hs, bw ):\n",
      "    \n",
      "    # Experimental variogram for a collection of lags\n",
      "\n",
      "    sv = list()\n",
      "    for h in hs:\n",
      "        sv.append( SVh(P, h, bw) )\n",
      "    sv = [ [ hs[i], sv[i] ] for i in range( len( hs ) ) if sv[i] > 0 ]\n",
      "\n",
      "    return np.array( sv ).T\n",
      "\n",
      "def C( P, h, bw ):\n",
      "\n",
      "    # Calculate the still, covariance function\n",
      "\n",
      "    c0 = np.var( P[:,2] )\n",
      "    if h == 0:\n",
      "        return c0\n",
      "    return c0-SVh( P, h, bw)\n",
      "\n",
      "'''\n",
      "plot(sv[0], sv[1], '.-')\n",
      "xlabel('lag [m]')\n",
      "ylabel('semivariance')\n",
      "title('Sample Semivariance')\n",
      "savefig('sample_semivariogram2.png',fmt='png',dpi=200)\n",
      "'''\n",
      "\n",
      "def opt ( fct, x, y, C0, parameterRange=None, meshSize=1000 ):\n",
      "\n",
      "    #determining the optimal value a for the spherical model.\n",
      "    \n",
      "    if parameterRange == None:\n",
      "        parameterRange =  [x[1], x[-1] ]\n",
      "        \n",
      "    mse = np.zeros( meshSize )\n",
      "    a = np.linspace( parameterRange[0], parameterRange[1], meshSize )\n",
      "    for i in range( meshSize ):\n",
      "        mse[i] = np.mean( ( y - fct( x, a[i], C0 ) )**2.0 )\n",
      "    return a[ mse.argmin() ]\n",
      "\n",
      "def spherical ( h, a, C0 ):\n",
      "    # Spherical model of the semivariogram\n",
      "\n",
      "    # if h is a single digit\n",
      "    if type(h) == np.float64:\n",
      "        # calculate the spherical function\n",
      "        if h <= a:\n",
      "            return C0*( 1.5*h/a - 0.5*(h/a)**3.0 )\n",
      "        else:\n",
      "            return C0\n",
      "    # if h is an iterable\n",
      "    else:\n",
      "        # calculate the spherical function for all elements\n",
      "        a = np.ones( h.size ) * a\n",
      "        C0 = np.ones( h.size ) * C0\n",
      "        return list(map( spherical, h, a, C0 ))\n",
      "\n",
      "def cvmodel ( P, model, hs, bw ):\n",
      "    '''\n",
      "    Input:  (P)         ndarray, data\n",
      "            (model)     modeling function\n",
      "                         - spherical\n",
      "                         - exponential\n",
      "                         - gaussian\n",
      "            (hs)        distances\n",
      "            (bw)        bandwidth\n",
      "    Output: (covfct)    function modeling the covariance\n",
      "    '''\n",
      "    # calculate the semivariogram\n",
      "    sv = SV(P, hs, bw )\n",
      "    # calculate the sill\n",
      "    C0 = C( P, hs[0], bw )\n",
      "    # calculate the optimal parameters\n",
      "    param = opt ( model, sv[0], sv[1], C0 )\n",
      "    # return a covariance function\n",
      "    covfct = lambda h, a=param: model( h, a, C0 )\n",
      "   # covfct = lambda h, a=param: model( h, a, C0 ) # this makes a unflippd curve compared to the tutorial, found in comments\n",
      "    return covfct\n",
      "\n",
      "'''\n",
      "sp = cvmodel( P, model=spherical, hs=np.arange(0,10500, 500), bw=500 )\n",
      "plot( sv[0], sv[1], '.-' )\n",
      "plot ( sv[0], sp( sv[0] ) ) ;\n",
      "title ('Spherical Model')\n",
      "ylabel('Semivariance')\n",
      "xlabel('Lag [m]')\n",
      "savefig('semivariogram_model.png', fmt='png',dpi=200)\n",
      "'''\n",
      "\n",
      "def krige( P, model, hs, bw, u, N ):\n",
      "    '''\n",
      "    Input       (P)     ndarray, data\n",
      "                (model) modeling function\n",
      "                         - spherical\n",
      "                         - exponential\n",
      "                         - gaussian\n",
      "                (hs)    kriging distances\n",
      "                (bw)    krigin bandwidth\n",
      "                (u)     unsampled point\n",
      "                (N)     number of neighboring\n",
      "                        points to consider\n",
      "    '''\n",
      "\n",
      "    # covariance function\n",
      "    covfct = cvmodel( P, model, hs, bw )\n",
      "    # mean of the variable\n",
      "    mu = np.mean( P[:,2] )\n",
      "\n",
      "    # distance between u and each data point in P\n",
      "    d = np.sqrt( ( P[:,0] - u[0] )**2.0 + ( P[:,1] - u[1] )**2.0 )\n",
      "    # add these distances to P\n",
      "    P = np.vstack(( P.T, d )).T\n",
      "    # sort P by these distances\n",
      "    # take the first N of them\n",
      "    P = P[d.argsort()[:N]]\n",
      "\n",
      "    # apply the covariance model to the distances\n",
      "    k = covfct( P[:,3] )\n",
      "    # cast as a matrix\n",
      "    k = np.matrix( k ).T\n",
      " \n",
      "    # form a matrix of distances between existing data points\n",
      "    K = squareform( pdist( P[:,:2] ) )\n",
      "    # apply the covariance model to these distances\n",
      "    K = covfct( K.ravel() )\n",
      "    # re-cast as a NumPy array -- thanks M.L.\n",
      "    K = np.array( K )\n",
      "    \n",
      "    #print('\\n')\n",
      "    #print(K)\n",
      "    #print('\\n')\n",
      "    \n",
      "    # reshape into an array\n",
      "    K = K.reshape(N,N);\n",
      "    # cast as a matrix\n",
      "    K = np.matrix( K )\n",
      " \n",
      "    # calculate the krigin weights\n",
      "    weights = np.linalg.inv( K ) * k\n",
      "    weights = np.array( weights )\n",
      "\n",
      "    # calculate the residuals\n",
      "    residuals = P[:,2] - mu\n",
      "\n",
      "    # calculate the estimation\n",
      "    estimation = np.dot( weights.T, residuals ) + mu\n",
      "\n",
      "    return float ( estimation )"
     ],
     "language": "python",
     "metadata": {},
     "outputs": [],
     "prompt_number": 18
    },
    {
     "cell_type": "code",
     "collapsed": false,
     "input": [
      "\n",
      "\n",
      "# fetching/parseing data\n",
      "#z = open ( 'ZoneA.dat', 'r' ).readlines()\n",
      "#z = [ i.strip().split() for i in z [10:] ]\n",
      "#z = np.array( z, dtype=np.float )\n",
      "#z = DataFrame( z, columns=['x','y','thk','por','prem','lprem','lpermp', 'lpermr'] )\n",
      "z = dataset.data();\n",
      "print(z)\n",
      "'''\n",
      "# graphing data\n",
      "fig, ax = subplots()\n",
      "ax.scatter(z.x, z.y, c=z.por, cmap='gray')\n",
      "ax.set_aspect(1)\n",
      "xlim(-1500, 22000)\n",
      "ylim(-1500, 17500)\n",
      "xlabel('Easting [m]')\n",
      "ylabel('Northing [m]')\n",
      "title('Porosity %') ;\n",
      "savefig('sample_porosity.png',fmt='png',dpi=200)\n",
      "'''\n",
      "\n"
     ],
     "language": "python",
     "metadata": {},
     "outputs": [
      {
       "output_type": "stream",
       "stream": "stdout",
       "text": [
        "    latitude  longitude      value   unit component             x            y\n",
        "2   59.92110   10.83363  11.843049  \u00b5g/m\u00b3      PM10   9445.196147  5519.426402\n",
        "3   59.91132   10.70407  43.120000  \u00b5g/m\u00b3      PM10   2231.188986  4236.971741\n",
        "4   59.93233   10.72447   5.128292  \u00b5g/m\u00b3      PM10   3310.899194  6605.790624\n",
        "5   59.92295   10.76573   6.300000  \u00b5g/m\u00b3      PM10   5644.313939  5622.211051\n",
        "6   59.93255   10.66984  31.776627  \u00b5g/m\u00b3      PM10    257.592415  6552.007552\n",
        "7   59.94103   10.79803   6.416949  \u00b5g/m\u00b3      PM10   7394.997730  7683.827281\n",
        "8   59.91975   10.68973   8.000000  \u00b5g/m\u00b3      PM10   1405.413216  5155.033425\n",
        "9   59.92773   10.84633   6.600000  \u00b5g/m\u00b3      PM10  10134.484938  6277.328925\n",
        "10  59.91898   10.69707  14.000000  \u00b5g/m\u00b3      PM10   1817.921401  5079.796788\n",
        "11  59.89869   10.81495  45.320000  \u00b5g/m\u00b3      PM10   8469.460905  2995.554277\n"
       ]
      },
      {
       "metadata": {},
       "output_type": "pyout",
       "prompt_number": 19,
       "text": [
        "\"\\n# graphing data\\nfig, ax = subplots()\\nax.scatter(z.x, z.y, c=z.por, cmap='gray')\\nax.set_aspect(1)\\nxlim(-1500, 22000)\\nylim(-1500, 17500)\\nxlabel('Easting [m]')\\nylabel('Northing [m]')\\ntitle('Porosity %') ;\\nsavefig('sample_porosity.png',fmt='png',dpi=200)\\n\""
       ]
      }
     ],
     "prompt_number": 19
    },
    {
     "cell_type": "code",
     "collapsed": false,
     "input": [
      "# part of our data set recording porosity\n",
      "P = np.array( z[['x','y','value']] )\n",
      "# bandwidth, plus or minus 250 meters\n",
      "bw = 15500\n",
      "# lags in 500 meter increments from zero to 10,000\n",
      "# hs = np.arange(0,10500,bw)\n",
      "hs = np.arange(0,20000, bw)\n",
      "sv = SV( P, hs, bw )\n",
      "\n",
      "\n",
      "\n",
      "# calculate the kriging estimate at a number of unsampled points\n",
      "#X0, X1 = P[:,0].min(), P[:,0].max()\n",
      "#Y0, Y1 = P[:,1].min(), P[:,1].max()\n",
      "\n",
      "#map corners\n",
      "LEFT = 593065.1648494017; \n",
      "BOTTOM = 6638524.509011956;\n",
      "RIGHT = 605365.439142052; \n",
      "TOP = 6648891.652304975;\n",
      "\n",
      "X0, X1 = 0, RIGHT-LEFT\n",
      "Y0, Y1 = 0, TOP-BOTTOM\n",
      "\n",
      "\n",
      "nx = 50\n",
      "ny = 47\n",
      "num_points = len(z.index)\n",
      "\n",
      "Z = np.zeros((ny,nx))\n",
      "dx, dy = (X1-X0)/float(nx), (Y1-Y0)/float(ny)\n",
      "for i in range(nx):\n",
      "    print (i),\n",
      "    for j in range(ny):\n",
      "        x = X0 + i*dx\n",
      "        y = Y0 + j*dy\n",
      "        Z[j,i] = krige( P, spherical, hs, bw, (x, y), num_points )\n"
     ],
     "language": "python",
     "metadata": {},
     "outputs": [
      {
       "output_type": "stream",
       "stream": "stdout",
       "text": [
        "0 "
       ]
      },
      {
       "output_type": "stream",
       "stream": "stdout",
       "text": [
        "1 "
       ]
      },
      {
       "output_type": "stream",
       "stream": "stdout",
       "text": [
        "2 "
       ]
      },
      {
       "output_type": "stream",
       "stream": "stdout",
       "text": [
        "3 "
       ]
      },
      {
       "output_type": "stream",
       "stream": "stdout",
       "text": [
        "4 "
       ]
      },
      {
       "output_type": "stream",
       "stream": "stdout",
       "text": [
        "5 "
       ]
      },
      {
       "output_type": "stream",
       "stream": "stdout",
       "text": [
        "6 "
       ]
      },
      {
       "output_type": "stream",
       "stream": "stdout",
       "text": [
        "7 "
       ]
      },
      {
       "output_type": "stream",
       "stream": "stdout",
       "text": [
        "8 "
       ]
      },
      {
       "output_type": "stream",
       "stream": "stdout",
       "text": [
        "9 "
       ]
      },
      {
       "output_type": "stream",
       "stream": "stdout",
       "text": [
        "10 "
       ]
      },
      {
       "output_type": "stream",
       "stream": "stdout",
       "text": [
        "11 "
       ]
      },
      {
       "output_type": "stream",
       "stream": "stdout",
       "text": [
        "12 "
       ]
      },
      {
       "output_type": "stream",
       "stream": "stdout",
       "text": [
        "13 "
       ]
      },
      {
       "output_type": "stream",
       "stream": "stdout",
       "text": [
        "14 "
       ]
      },
      {
       "output_type": "stream",
       "stream": "stdout",
       "text": [
        "15 "
       ]
      },
      {
       "output_type": "stream",
       "stream": "stdout",
       "text": [
        "16 "
       ]
      },
      {
       "output_type": "stream",
       "stream": "stdout",
       "text": [
        "17 "
       ]
      },
      {
       "output_type": "stream",
       "stream": "stdout",
       "text": [
        "18 "
       ]
      },
      {
       "output_type": "stream",
       "stream": "stdout",
       "text": [
        "19 "
       ]
      },
      {
       "output_type": "stream",
       "stream": "stdout",
       "text": [
        "20 "
       ]
      },
      {
       "output_type": "stream",
       "stream": "stdout",
       "text": [
        "21 "
       ]
      },
      {
       "output_type": "stream",
       "stream": "stdout",
       "text": [
        "22 "
       ]
      },
      {
       "output_type": "stream",
       "stream": "stdout",
       "text": [
        "23 "
       ]
      },
      {
       "output_type": "stream",
       "stream": "stdout",
       "text": [
        "24 "
       ]
      },
      {
       "output_type": "stream",
       "stream": "stdout",
       "text": [
        "25 "
       ]
      },
      {
       "output_type": "stream",
       "stream": "stdout",
       "text": [
        "26 "
       ]
      },
      {
       "output_type": "stream",
       "stream": "stdout",
       "text": [
        "27 "
       ]
      },
      {
       "output_type": "stream",
       "stream": "stdout",
       "text": [
        "28 "
       ]
      },
      {
       "output_type": "stream",
       "stream": "stdout",
       "text": [
        "29 "
       ]
      },
      {
       "output_type": "stream",
       "stream": "stdout",
       "text": [
        "30 "
       ]
      },
      {
       "output_type": "stream",
       "stream": "stdout",
       "text": [
        "31 "
       ]
      },
      {
       "output_type": "stream",
       "stream": "stdout",
       "text": [
        "32 "
       ]
      },
      {
       "output_type": "stream",
       "stream": "stdout",
       "text": [
        "33 "
       ]
      },
      {
       "output_type": "stream",
       "stream": "stdout",
       "text": [
        "34 "
       ]
      },
      {
       "output_type": "stream",
       "stream": "stdout",
       "text": [
        "35 "
       ]
      },
      {
       "output_type": "stream",
       "stream": "stdout",
       "text": [
        "36 "
       ]
      },
      {
       "output_type": "stream",
       "stream": "stdout",
       "text": [
        "37 "
       ]
      },
      {
       "output_type": "stream",
       "stream": "stdout",
       "text": [
        "38 "
       ]
      },
      {
       "output_type": "stream",
       "stream": "stdout",
       "text": [
        "39 "
       ]
      },
      {
       "output_type": "stream",
       "stream": "stdout",
       "text": [
        "40 "
       ]
      },
      {
       "output_type": "stream",
       "stream": "stdout",
       "text": [
        "41 "
       ]
      },
      {
       "output_type": "stream",
       "stream": "stdout",
       "text": [
        "42 "
       ]
      },
      {
       "output_type": "stream",
       "stream": "stdout",
       "text": [
        "43 "
       ]
      },
      {
       "output_type": "stream",
       "stream": "stdout",
       "text": [
        "44 "
       ]
      },
      {
       "output_type": "stream",
       "stream": "stdout",
       "text": [
        "45 "
       ]
      },
      {
       "output_type": "stream",
       "stream": "stdout",
       "text": [
        "46 "
       ]
      },
      {
       "output_type": "stream",
       "stream": "stdout",
       "text": [
        "47 "
       ]
      },
      {
       "output_type": "stream",
       "stream": "stdout",
       "text": [
        "48 "
       ]
      },
      {
       "output_type": "stream",
       "stream": "stdout",
       "text": [
        "49\n"
       ]
      }
     ],
     "prompt_number": 20
    },
    {
     "cell_type": "code",
     "collapsed": false,
     "input": [
      "cdict = {'red':   ((0.0, 1.0, 1.0),\n",
      "                   (0.5, 225/255., 225/255. ),\n",
      "                   (0.75, 0.141, 0.141 ),\n",
      "                   (1.0, 0.0, 0.0)),\n",
      "         'green': ((0.0, 1.0, 1.0),\n",
      "                   (0.5, 57/255., 57/255. ),\n",
      "                   (0.75, 0.0, 0.0 ),\n",
      "                   (1.0, 0.0, 0.0)),\n",
      "         'blue':  ((0.0, 0.376, 0.376),\n",
      "                   (0.5, 198/255., 198/255. ),\n",
      "                   (0.75, 1.0, 1.0 ),\n",
      "                   (1.0, 0.0, 0.0)) }\n",
      "\n",
      "my_cmap = matplotlib.colors.LinearSegmentedColormap('my_colormap', cdict, 256)\n",
      "\n",
      "\n",
      "\n",
      "fig, ax = subplots()\n",
      "fig.dpi=400\n",
      "H = np.zeros_like( Z )\n",
      "for i in range( Z.shape[0] ):\n",
      "    for j in range( Z.shape[1] ):\n",
      "        H[i,j] = np.round( Z[i,j]*3 )\n",
      "        \n",
      "m = Basemap(llcrnrlon=10.662291,llcrnrlat= 59.873800,urcrnrlon=10.887139,urcrnrlat=59.963886,\n",
      "             resolution='f',projection='tmerc',lon_0=6.7806151842031,lat_0=60.479443366542, ax = ax)\n",
      "m.drawcoastlines()\n",
      "\n",
      "#ax.matshow( H, cmap=my_cmap, interpolation='nearest' )\n",
      "ax.imshow(H, cmap=my_cmap, origin='lower', interpolation='nearest', alpha=0.7, extent=[X0, X1, Y0, Y1])\n",
      "sc = ax.scatter( z.x, z.y, cmap=my_cmap, c=z.value, linewidths=0.75, s=50 )\n",
      "#xlim(0,nx) ; ylim(0,ny)\n",
      "plt.colorbar(sc)\n",
      "\n",
      "fig.suptitle('component: ' + str(z['component'].iloc[0]) + ', date: ' + str(datetime.datetime.now().strftime(\"%Y-%m-%d %H:%M\")), fontsize=14)\n",
      "fig.show()\n",
      "#plt.show()\n",
      "#savefig( 'krigingpurple.png', fmt='png', dpi=200 )\n"
     ],
     "language": "python",
     "metadata": {},
     "outputs": [
      {
       "metadata": {},
       "output_type": "display_data",
       "png": "[encoded data removed]",
       "text": [
        "<matplotlib.figure.Figure at 0x7f2f868a2c90>"
       ]
      }
     ],
     "prompt_number": 21
    },
    {
     "cell_type": "code",
     "collapsed": false,
     "input": [
      "\n",
      "fig, ax = subplots()\n",
      "fig.dpi=400\n",
      "H = np.zeros_like( Z )\n",
      "for i in range( Z.shape[0] ):\n",
      "    for j in range( Z.shape[1] ):\n",
      "        H[i,j] = np.round( Z[i,j]*3 )\n",
      "        \n",
      "\n",
      "#ax.matshow( H, cmap=my_cmap, interpolation='nearest' )\n",
      "#ax.imshow(H, cmap=my_cmap, origin='lower', interpolation='nearest', alpha=0.7, extent=[X0, X1, Y0, Y1])\n",
      "#ax.imshow(H, cmap=my_cmap, origin='lower', interpolation='nearest', extent=[X0, X1, Y0, Y1])\n",
      "ax.scatter( z.longitude, z.latitude, cmap=my_cmap, c=z.value, linewidths=0.75, s=50)\n",
      "\n",
      "mplleaflet.display(fig=fig)\n",
      "\n",
      "#plt.colorbar(sc)\n",
      "#fig.suptitle('component: ' + str(z['component'].iloc[0]) + ', date: ' + str(datetime.datetime.now().strftime(\"%Y-%m-%d %H:%M\")), fontsize=14)\n",
      "#fig.show()"
     ],
     "language": "python",
     "metadata": {},
     "outputs": [
      {
       "html": [
        "<iframe src=\"data:text/html;base64,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\" width=\"100%\" height=\"240\"></iframe>"
       ],
       "metadata": {},
       "output_type": "pyout",
       "prompt_number": 22,
       "text": [
        "<IPython.core.display.HTML at 0x7f2f867cfa90>"
       ]
      }
     ],
     "prompt_number": 22
    },
    {
     "cell_type": "code",
     "collapsed": false,
     "input": [
      "# llcrnrlat,llcrnrlon,urcrnrlat,urcrnrlon\n",
      "# are the lat/lon values of the lower left and upper right corners\n",
      "# of the map.data:image/png;base64,iVBORw0KGgoAAAANSUhEUgAAAUUAAAEECAYAAAC/cCaUAAAABHNCSVQICAgIfAhkiAAAAAlwSFlz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\n",
      "# resolution = 'i' means use intermediate resolution coastlines.\n",
      "# lon_0, lat_0 are the central longitude and latitude of the projection.\n",
      "m = Basemap(llcrnrlon=10.662291,llcrnrlat= 59.873800,urcrnrlon=10.887139,urcrnrlat=59.963886,\n",
      "             resolution='f',projection='tmerc',lon_0=6.7806151842031,lat_0=60.479443366542, ax = ax)\n",
      "m.drawcoastlines()\n",
      "# can get the identical map this way (by specifying width and\n",
      "# height instead of lat/lon corners)\n",
      "#m = Basemap(width=894887,height=1116766,\\\n",
      "#            resolution='i',projection='tmerc',lon_0=-4.36,lat_0=54.7)\n",
      "\n",
      "#m.fillcontinents(color='coral',lake_color='aqua')\n",
      "# draw parallels and meridians.\n",
      "m.drawmapboundary(fill_color='aqua')\n",
      "#plt.title(\"Transverse Mercator Projection\")\n",
      "\n",
      "fig.show()"
     ],
     "language": "python",
     "metadata": {},
     "outputs": [],
     "prompt_number": 23
    },
    {
     "cell_type": "code",
     "collapsed": false,
     "input": [],
     "language": "python",
     "metadata": {},
     "outputs": [],
     "prompt_number": 23
    },
    {
     "cell_type": "code",
     "collapsed": false,
     "input": [
      "#some latitudes bracketing seattle\n",
      "lats = [47.5062,47.7062]\n",
      "#longitude\n",
      "lons = [-122.3321]*len(lats)\n",
      "\n",
      "fig,ax=plt.subplots(figsize=(8,8))\n",
      "#ax.scatter(lons, lats, alpha=0) #invisible data points, just to scale the map\n",
      "#ax.(H, cmap=my_cmap, origin='lower', interpolation='nearest', alpha=0.7, extent=[X0, X1, Y0, Y1])\n",
      "\n",
      "#ax.imshow(H, cmap=my_cmap, origin='lower', interpolation='nearest', alpha=0.7)\n",
      "ax.scatter( z.longitude, z.latitude, cmap=my_cmap, c=z.value, linewidths=0.75, s=50 )\n",
      "\n",
      "#ax.imshow(H, cmap=my_cmap, origin='lower', interpolation='nearest', alpha=0.7, extent=[X0, X1, Y0, Y1])\n",
      "\n",
      "mplleaflet.display(fig=fig)"
     ],
     "language": "python",
     "metadata": {},
     "outputs": [
      {
       "html": [
        "<iframe src=\"data:text/html;base64,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\" width=\"100%\" height=\"480\"></iframe>"
       ],
       "metadata": {},
       "output_type": "pyout",
       "prompt_number": 24,
       "text": [
        "<IPython.core.display.HTML at 0x7f2f86a603d0>"
       ]
      }
     ],
     "prompt_number": 24
    },
    {
     "cell_type": "code",
     "collapsed": false,
     "input": [
      "import osmapi\n",
      "api = osmapi.OsmApi()\n",
      "print api.NodeGet(123)\n"
     ],
     "language": "python",
     "metadata": {},
     "outputs": [
      {
       "output_type": "stream",
       "stream": "stdout",
       "text": [
        "{u'changeset': 38852974, u'uid': 605010, u'timestamp': datetime.datetime(2016, 4, 25, 10, 30, 27), u'lon': 10.7899198, u'visible': True, u'version': 8, u'user': u'Noen', u'lat': 59.9503286, u'tag': {}, u'id': 123}\n"
       ]
      }
     ],
     "prompt_number": 25
    },
    {
     "cell_type": "code",
     "collapsed": false,
     "input": [],
     "language": "python",
     "metadata": {},
     "outputs": [],
     "prompt_number": 25
    }
   ],
   "metadata": {}
  }
 ]
}